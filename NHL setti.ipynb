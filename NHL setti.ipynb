{
 "cells": [
  {
   "cell_type": "code",
   "execution_count": 1,
   "metadata": {
    "collapsed": false,
    "deletable": true,
    "editable": true
   },
   "outputs": [],
   "source": [
    "import requests\n",
    "from selenium import webdriver\n",
    "from selenium.webdriver.support.ui import Select\n",
    "import time\n",
    "import bs4\n",
    "import re\n",
    "import xlrd\n",
    "\n",
    "from lxml import etree\n",
    "\n",
    "import numpy as np\n",
    "%matplotlib inline\n",
    "import pandas as pd\n",
    "import seaborn as sns"
   ]
  },
  {
   "cell_type": "code",
   "execution_count": 2,
   "metadata": {
    "collapsed": false,
    "deletable": true,
    "editable": true
   },
   "outputs": [],
   "source": [
    "import urllib as ul"
   ]
  },
  {
   "cell_type": "code",
   "execution_count": 3,
   "metadata": {
    "collapsed": true,
    "deletable": true,
    "editable": true
   },
   "outputs": [],
   "source": [
    "path_to_chromedriver = '/home/sohai/Dropbox/koodailuprojektit/chromedriver' # change path as needed\n",
    "browser = webdriver.Chrome(executable_path = path_to_chromedriver)"
   ]
  },
  {
   "cell_type": "code",
   "execution_count": 4,
   "metadata": {
    "collapsed": true,
    "deletable": true,
    "editable": true
   },
   "outputs": [],
   "source": [
    "urli = 'http://www.nhl.com/stats/team?aggregate=0&gameType=2&report=teamsummary&reportType=game&startDate=2010-06-01&endDate=2016-06-01&filter=gamesPlayed,gte,1&sort=gameId'"
   ]
  },
  {
   "cell_type": "code",
   "execution_count": 5,
   "metadata": {
    "collapsed": false,
    "deletable": true,
    "editable": true
   },
   "outputs": [],
   "source": [
    "browser.get(urli)"
   ]
  },
  {
   "cell_type": "code",
   "execution_count": 16,
   "metadata": {
    "collapsed": false,
    "deletable": true,
    "editable": true
   },
   "outputs": [
    {
     "name": "stdout",
     "output_type": "stream",
     "text": [
      "1\n",
      "2\n"
     ]
    }
   ],
   "source": [
    "data_df = pd.DataFrame(columns=np.arange(0,24,1))\n",
    "t0=time.time()\n",
    "\n",
    "for i in range(1,3):\n",
    "    \n",
    "    selector = Select(browser.find_element_by_class_name('pager-select'))\n",
    "    selector.select_by_visible_text(str(i))\n",
    "\n",
    "    foo = browser.find_element_by_class_name('stat-table')\n",
    "    rows = foo.find_elements_by_tag_name(\"tr\")\n",
    "    for row in rows[0:-1]:\n",
    "        elements = row.find_elements_by_tag_name(\"td\")\n",
    "        rivi = [element.text for element in elements]\n",
    "        rivi_df = pd.DataFrame(rivi).transpose()\n",
    "        data_df = pd.concat([data_df,rivi_df])\n",
    "    print(i)\n",
    "t1=time.time()"
   ]
  },
  {
   "cell_type": "code",
   "execution_count": 8,
   "metadata": {
    "collapsed": false,
    "deletable": true,
    "editable": true
   },
   "outputs": [
    {
     "name": "stdout",
     "output_type": "stream",
     "text": [
      "1\n"
     ]
    }
   ],
   "source": [
    "header_df = pd.DataFrame(columns=np.arange(0,24,1))\n",
    "t0=time.time()\n",
    "\n",
    "for i in range(1,2):\n",
    "    \n",
    "    selector = Select(browser.find_element_by_class_name('pager-select'))\n",
    "    selector.select_by_visible_text(str(i))\n",
    "\n",
    "    foo = browser.find_element_by_class_name('stat-table')\n",
    "    rows = foo.find_elements_by_tag_name(\"tr\")\n",
    "    for row in rows[0:-1]:\n",
    "        elements = row.find_elements_by_tag_name(\"th\")\n",
    "        rivi = [element.text for element in elements]\n",
    "        rivi_df = pd.DataFrame(rivi).transpose()\n",
    "        header_df = pd.concat([header_df,rivi_df])\n",
    "    print(i)\n",
    "t1=time.time()"
   ]
  },
  {
   "cell_type": "code",
   "execution_count": 11,
   "metadata": {
    "collapsed": true,
    "deletable": true,
    "editable": true
   },
   "outputs": [],
   "source": [
    "data_df = pd.read_excel('/home/sohai/Dropbox/koodailuprojektit/nhl/data/nhl.xlsx')"
   ]
  },
  {
   "cell_type": "code",
   "execution_count": 27,
   "metadata": {
    "collapsed": true,
    "deletable": true,
    "editable": true
   },
   "outputs": [],
   "source": [
    "data_df.to_excel('/home/sohai/Dropbox/koodailuprojektit/nhl/nhl_headerilla.xlsx')"
   ]
  },
  {
   "cell_type": "code",
   "execution_count": 42,
   "metadata": {
    "collapsed": false,
    "deletable": true,
    "editable": true
   },
   "outputs": [],
   "source": [
    "data_df['Team']=data_df['Team'].astype(str)"
   ]
  },
  {
   "cell_type": "code",
   "execution_count": 1,
   "metadata": {
    "collapsed": false,
    "deletable": true,
    "editable": true
   },
   "outputs": [
    {
     "ename": "NameError",
     "evalue": "name 'data_df' is not defined",
     "output_type": "error",
     "traceback": [
      "\u001b[0;31m---------------------------------------------------------------------------\u001b[0m",
      "\u001b[0;31mNameError\u001b[0m                                 Traceback (most recent call last)",
      "\u001b[0;32m<ipython-input-1-776a27c10b95>\u001b[0m in \u001b[0;36m<module>\u001b[0;34m()\u001b[0m\n\u001b[0;32m----> 1\u001b[0;31m \u001b[0mdata_df\u001b[0m\u001b[0;34m.\u001b[0m\u001b[0mreplace\u001b[0m\u001b[0;34m(\u001b[0m\u001b[0;34m{\u001b[0m\u001b[0;34m'Team'\u001b[0m\u001b[0;34m:\u001b[0m\u001b[0mres\u001b[0m\u001b[0;34m}\u001b[0m\u001b[0;34m)\u001b[0m\u001b[0;34m\u001b[0m\u001b[0m\n\u001b[0m",
      "\u001b[0;31mNameError\u001b[0m: name 'data_df' is not defined"
     ]
    }
   ],
   "source": [
    "data_df.replace({'Team':res})"
   ]
  },
  {
   "cell_type": "code",
   "execution_count": 53,
   "metadata": {
    "collapsed": false,
    "deletable": true,
    "editable": true
   },
   "outputs": [],
   "source": [
    "def invertDictionary(orig_dict):\n",
    "    result = {} # or change to defaultdict(list)\n",
    "    for k, v in orig_dict.iteritems():\n",
    "        result.setdefault(v, []).append(k)"
   ]
  },
  {
   "cell_type": "code",
   "execution_count": 56,
   "metadata": {
    "collapsed": false,
    "deletable": true,
    "editable": true
   },
   "outputs": [
    {
     "ename": "ValueError",
     "evalue": "too many values to unpack (expected 2)",
     "output_type": "error",
     "traceback": [
      "\u001b[0;31m---------------------------------------------------------------------------\u001b[0m",
      "\u001b[0;31mValueError\u001b[0m                                Traceback (most recent call last)",
      "\u001b[0;32m<ipython-input-56-c3e3dde7a578>\u001b[0m in \u001b[0;36m<module>\u001b[0;34m()\u001b[0m\n\u001b[0;32m----> 1\u001b[0;31m \u001b[0mres\u001b[0m \u001b[0;34m=\u001b[0m \u001b[0mdict\u001b[0m\u001b[0;34m(\u001b[0m\u001b[0;34m(\u001b[0m\u001b[0mv\u001b[0m\u001b[0;34m,\u001b[0m\u001b[0mk\u001b[0m\u001b[0;34m)\u001b[0m \u001b[0;32mfor\u001b[0m \u001b[0mk\u001b[0m\u001b[0;34m,\u001b[0m\u001b[0mv\u001b[0m \u001b[0;32min\u001b[0m \u001b[0mjoukkueet\u001b[0m\u001b[0;34m)\u001b[0m\u001b[0;34m\u001b[0m\u001b[0m\n\u001b[0m",
      "\u001b[0;32m<ipython-input-56-c3e3dde7a578>\u001b[0m in \u001b[0;36m<genexpr>\u001b[0;34m(.0)\u001b[0m\n\u001b[0;32m----> 1\u001b[0;31m \u001b[0mres\u001b[0m \u001b[0;34m=\u001b[0m \u001b[0mdict\u001b[0m\u001b[0;34m(\u001b[0m\u001b[0;34m(\u001b[0m\u001b[0mv\u001b[0m\u001b[0;34m,\u001b[0m\u001b[0mk\u001b[0m\u001b[0;34m)\u001b[0m \u001b[0;32mfor\u001b[0m \u001b[0mk\u001b[0m\u001b[0;34m,\u001b[0m\u001b[0mv\u001b[0m \u001b[0;32min\u001b[0m \u001b[0mjoukkueet\u001b[0m\u001b[0;34m)\u001b[0m\u001b[0;34m\u001b[0m\u001b[0m\n\u001b[0m",
      "\u001b[0;31mValueError\u001b[0m: too many values to unpack (expected 2)"
     ]
    }
   ],
   "source": [
    "res = dict((v,k) for k,v in joukkueet)"
   ]
  },
  {
   "cell_type": "code",
   "execution_count": 61,
   "metadata": {
    "collapsed": false,
    "deletable": true,
    "editable": true
   },
   "outputs": [],
   "source": [
    "res = dict((v,k) for k,v in joukkueet.items())"
   ]
  },
  {
   "cell_type": "code",
   "execution_count": 64,
   "metadata": {
    "collapsed": false,
    "deletable": true,
    "editable": true
   },
   "outputs": [
    {
     "data": {
      "text/plain": [
       "{'Anaheim Ducks': 'ANA',\n",
       " 'Atlanta Thrashers': 'ATL',\n",
       " 'Boston Bruins': 'BOS',\n",
       " 'Buffalo Sabres': 'BUF',\n",
       " 'Calgary Flames': 'CAL',\n",
       " 'Carolina Hurricanes': 'CAR',\n",
       " 'Chicago Blackhawks': 'CHI',\n",
       " 'Colorado Avalanche': 'COL',\n",
       " 'Columbus Blue Jackets': 'CBJ',\n",
       " 'Dallas Stars': 'DAL',\n",
       " 'Detroit Red Wings': 'DET',\n",
       " 'Edmonton Oilers': 'EDM',\n",
       " 'Florida Panthers': 'FLO',\n",
       " 'Los Angeles Kings': 'LA',\n",
       " 'Minnesota Wild': 'MIN',\n",
       " 'Montréal Canadiens': 'MTL',\n",
       " 'Nashville Predators': 'NAS',\n",
       " 'New Jersey Devils': 'NJD',\n",
       " 'New York Islanders': 'NYI',\n",
       " 'New York Rangers': 'NYR',\n",
       " 'Ottawa Senators': 'OTT',\n",
       " 'Philadelphia Flyers': 'PHI',\n",
       " 'Phoenix Coyotes': 'PHO',\n",
       " 'Pittsburgh Penguins': 'PIT',\n",
       " 'San Jose Sharks': 'SJ',\n",
       " 'St. Louis Blues': 'STL',\n",
       " 'Tampa Bay Lightning': 'TB',\n",
       " 'Toronto Maple Leafs': 'TOR',\n",
       " 'Vancouver Canucks': 'VAN',\n",
       " 'Washington Capitals': 'WAS'}"
      ]
     },
     "execution_count": 64,
     "metadata": {},
     "output_type": "execute_result"
    }
   ],
   "source": [
    "res"
   ]
  },
  {
   "cell_type": "code",
   "execution_count": null,
   "metadata": {
    "collapsed": true,
    "deletable": true,
    "editable": true
   },
   "outputs": [],
   "source": []
  }
 ],
 "metadata": {
  "kernelspec": {
   "display_name": "Python 3",
   "language": "python",
   "name": "python3"
  },
  "language_info": {
   "codemirror_mode": {
    "name": "ipython",
    "version": 3
   },
   "file_extension": ".py",
   "mimetype": "text/x-python",
   "name": "python",
   "nbconvert_exporter": "python",
   "pygments_lexer": "ipython3",
   "version": "3.5.2"
  }
 },
 "nbformat": 4,
 "nbformat_minor": 2
}
